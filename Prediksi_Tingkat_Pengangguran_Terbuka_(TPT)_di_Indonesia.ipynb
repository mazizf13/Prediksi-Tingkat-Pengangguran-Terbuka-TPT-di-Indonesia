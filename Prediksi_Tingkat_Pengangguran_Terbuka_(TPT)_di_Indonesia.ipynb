{
  "nbformat": 4,
  "nbformat_minor": 0,
  "metadata": {
    "colab": {
      "provenance": [],
      "authorship_tag": "ABX9TyPcRa5bV55Htad32j5RwqhN",
      "include_colab_link": true
    },
    "kernelspec": {
      "name": "python3",
      "display_name": "Python 3"
    },
    "language_info": {
      "name": "python"
    }
  },
  "cells": [
    {
      "cell_type": "markdown",
      "metadata": {
        "id": "view-in-github",
        "colab_type": "text"
      },
      "source": [
        "<a href=\"https://colab.research.google.com/github/mazizf13/Prediksi-Tingkat-Pengangguran-Terbuka-TPT-di-Indonesia/blob/main/Prediksi_Tingkat_Pengangguran_Terbuka_(TPT)_di_Indonesia.ipynb\" target=\"_parent\"><img src=\"https://colab.research.google.com/assets/colab-badge.svg\" alt=\"Open In Colab\"/></a>"
      ]
    },
    {
      "cell_type": "markdown",
      "source": [
        "# **Prediksi Tingkat Pengangguran Terbuka (TPT) di Indonesia**"
      ],
      "metadata": {
        "id": "0T1MVnGuen-M"
      }
    },
    {
      "cell_type": "markdown",
      "source": [
        "## **Pendefinisian fungsi dan kelas yang digunakan**"
      ],
      "metadata": {
        "id": "w2Md3jP8eu96"
      }
    },
    {
      "cell_type": "code",
      "execution_count": 1,
      "metadata": {
        "id": "sohZ4w_9eiMx"
      },
      "outputs": [],
      "source": [
        "# Import library keras dan lain-lain\n",
        "\n",
        "import numpy as np # For matrix math\n",
        "from numpy import loadtxt\n",
        "from keras.models import Sequential\n",
        "import matplotlib.pyplot as plt # For plotting\n",
        "import keras\n",
        "from keras.utils import to_categorical\n",
        "from keras.layers import Flatten, Dense, Activation\n",
        "from IPython.display import clear_output"
      ]
    },
    {
      "cell_type": "markdown",
      "source": [
        "## **Normalisasi Data**"
      ],
      "metadata": {
        "id": "scjCm9gMe0K7"
      }
    },
    {
      "cell_type": "code",
      "source": [
        "def normalisasi(x):\n",
        "    a = np.max(x)\n",
        "    b = np.min(x)\n",
        "    hasil_normalisasi = (0.8 * (x - b)) / (a - b) + 0.1\n",
        "    return hasil_normalisasi"
      ],
      "metadata": {
        "id": "jhPLW312i7gW"
      },
      "execution_count": null,
      "outputs": []
    },
    {
      "cell_type": "code",
      "source": [
        "# load the data latih\n",
        "# Data Tingkat Pengangguran Terbuka (TPT) mulai Tahun 1997\n",
        "# sampai dengan Tahun 2020\n",
        "\n",
        "TPT = loadtxt('data_pengangguran.csv', delimiter=',')\n",
        "TPT_normal = normalisasi(TPT)\n",
        "\n",
        "TPT_Target = TPT[:,10]\n",
        "TPT_Target_Uji = TPT[:,11]\n",
        "\n",
        "# DATA PELATIHAN =================================\n",
        "# Data dibagi menjadi 10 variabel input (X) dan 1 variabel output (Y)\n",
        "# Input : mulai tahun 1997 sampai tahun 2016\n",
        "\n",
        "X = TPT_normal[:,0:10]\n",
        "\n",
        "# Output : data TPT tahun 2017 dan 2018\n",
        "\n",
        "Y = TPT_normal[:,10]\n",
        "\n",
        "# DATA UJI PREDIKSI=================================\n",
        "# Geser dua tahun ke depan\n",
        "# Input : mulai tahun 1999 sampai tahun 2018\n",
        "# Untuk memprediksi TPT Tahun 2019 dan 2020\n",
        "\n",
        "X1 = TPT_normal[:,1:11]\n",
        "\n",
        "# Urut tahun, menggantikan indeks dari 0 s.d 1\n",
        "\n",
        "urut = [1,\n",
        " 2\n",
        " ]"
      ],
      "metadata": {
        "id": "0OsxLKzwfFaU"
      },
      "execution_count": null,
      "outputs": []
    },
    {
      "cell_type": "code",
      "source": [
        "print(TPT)"
      ],
      "metadata": {
        "id": "V9QPRYFxfHPg"
      },
      "execution_count": null,
      "outputs": []
    },
    {
      "cell_type": "code",
      "source": [
        "TPT_normal = normalisasi(TPT)\n",
        "print(TPT_normal)"
      ],
      "metadata": {
        "id": "wxYOaTEFfIq5"
      },
      "execution_count": null,
      "outputs": []
    },
    {
      "cell_type": "code",
      "source": [
        "baris, kolom = TPT.shape\n",
        "print(\"barisnya =\",baris)\n",
        "print(\"kolomnya =\",kolom)"
      ],
      "metadata": {
        "id": "1qSptwwUfMbA"
      },
      "execution_count": null,
      "outputs": []
    },
    {
      "cell_type": "code",
      "source": [
        "baris, kolom = TPT_normal.shape\n",
        "print(\"barisnya =\",baris)\n",
        "print(\"kolomnya =\",kolom)"
      ],
      "metadata": {
        "id": "fW2rlIF4fO2s"
      },
      "execution_count": null,
      "outputs": []
    },
    {
      "cell_type": "markdown",
      "source": [
        "### **Masukkan Jaringan X**"
      ],
      "metadata": {
        "id": "9115XTk5fR7O"
      }
    },
    {
      "cell_type": "code",
      "source": [
        "baris, kolom = X.shape\n",
        "print(\"barisnya =\",baris)\n",
        "print(\"kolomnya =\",kolom)"
      ],
      "metadata": {
        "id": "AhZVE-1WfUId"
      },
      "execution_count": null,
      "outputs": []
    },
    {
      "cell_type": "code",
      "source": [
        "# Mendefinisikan model keras\n",
        "\n",
        "model = Sequential()\n",
        "model.add(Dense(10, input_dim=10, activation='relu'))\n",
        "model.add(Dense(10, activation='relu'))\n",
        "model.add(Dense(10, activation='relu'))\n",
        "model.add(Dense(1, activation='sigmoid'))"
      ],
      "metadata": {
        "id": "Cuk6mo8ffXQi"
      },
      "execution_count": null,
      "outputs": []
    },
    {
      "cell_type": "code",
      "source": [
        "# Proses kompilasi (pelatihan) Deep Learning\n",
        "\n",
        "model.compile(loss='mean_squared_error', optimizer='adam', metrics=['mean_squared_error'])"
      ],
      "metadata": {
        "id": "KuLaHxfPfnes"
      },
      "execution_count": null,
      "outputs": []
    },
    {
      "cell_type": "code",
      "source": [
        "class PlotLosses(keras.callbacks.Callback):\n",
        "  def on_train_begin(self, logs={}):\n",
        "    self.i = 0\n",
        "    self.x = []\n",
        "    self.losses = []\n",
        "    self.val_losses = []\n",
        "\n",
        "    self.fig = plt.figure()\n",
        "\n",
        "    self.logs = []\n",
        "\n",
        "  def on_epoch_end(self, epoch, logs={}):\n",
        "\n",
        "    self.logs.append(logs)\n",
        "    self.x.append(self.i)\n",
        "    self.losses.append(logs.get('loss'))\n",
        "    self.val_losses.append(logs.get('val_loss'))\n",
        "    self.i += 1\n",
        "\n",
        "    clear_output(wait=True)\n",
        "    plt.plot(self.x, self.losses, label=\"loss\")\n",
        "    plt.plot(self.x, self.val_losses, label=\"val_loss\")\n",
        "    plt.legend()\n",
        "    plt.grid()\n",
        "    plt.xlabel('epoch')\n",
        "    plt.ylabel('loss')\n",
        "    plt.show();\n",
        "\n",
        "plot_losses = PlotLosses()"
      ],
      "metadata": {
        "id": "cL8cAphtfquc"
      },
      "execution_count": null,
      "outputs": []
    },
    {
      "cell_type": "code",
      "source": [
        "model.fit(X, Y,\n",
        " epochs=500,\n",
        " validation_data=(X, Y),\n",
        " callbacks=[plot_losses],\n",
        " verbose=0)"
      ],
      "metadata": {
        "id": "NAFI6MC1ftDD"
      },
      "execution_count": null,
      "outputs": []
    },
    {
      "cell_type": "code",
      "source": [
        "# evaluate the keras model\n",
        "# Evalusi hasil proses pelatihan Deep Learning\n",
        "# Hitung akurasi hasil pelatihan dalam bentuk Prosentase Keberhasilan\n",
        "# Prosentase Keberhasilan = 100 - MAPE\n",
        "\n",
        "#_, MAPE_pelatihan = model.evaluate(X_normal, Y_normal, batch_size=1)\n",
        "\n",
        "_, MSE = model.evaluate(X, Y, batch_size=1)\n",
        "\n",
        "#print('Prosentase_keberhasilan: %.2f' % (100-MAPE_pelatihan))\n",
        "\n",
        "print('MSE : %.2f' % (MSE))"
      ],
      "metadata": {
        "id": "x-SuuxYYfxj0"
      },
      "execution_count": null,
      "outputs": []
    },
    {
      "cell_type": "code",
      "source": [
        "# menjalankan fungsi prediksi\n",
        "\n",
        "y_pred = model.predict(X)\n",
        "print(y_pred)"
      ],
      "metadata": {
        "id": "rCtZObQmfzcX"
      },
      "execution_count": null,
      "outputs": []
    },
    {
      "cell_type": "code",
      "source": [
        "# Denormalisasi Data sebelum dibandngkan\n",
        "\n",
        "a = np.max(TPT)\n",
        "b = np.min(TPT)\n",
        "\n",
        "# Rumus\n",
        "# x_denormalisasi = (((x_normalisasi - 0.1)*(a - b))/0.8) + b\n",
        "\n",
        "y_prediksi = (((y_pred - 0.1)*(a - b))/0.8) + b\n",
        "print(\"y_prediksi =\", y_prediksi)"
      ],
      "metadata": {
        "id": "0oNjA-_tf1GN"
      },
      "execution_count": null,
      "outputs": []
    },
    {
      "cell_type": "code",
      "source": [
        "# Urut tahun, menggantikan indeks dari 0 s.d 1\n",
        "\n",
        "urutan1 = ['2017',\n",
        " '2018'\n",
        " ]"
      ],
      "metadata": {
        "id": "2F2K9B85f3G9"
      },
      "execution_count": null,
      "outputs": []
    },
    {
      "cell_type": "code",
      "source": [
        "# Plot Keluaran Hasil Prediksi Tahap Pelatihan\n",
        "\n",
        "plt.title('Training Stage Prediction Results')\n",
        "plt.plot(urutan1, TPT_Target, '-b', label='Target', linewidth=3, markersize=12)\n",
        "plt.plot(urutan1, y_prediksi, '--r', label='Prediction', linewidth=3, markersize=12)\n",
        "plt.legend()\n",
        "plt.xlabel('Year')\n",
        "plt.ylabel('Open Unemployment Rate (OUR) (%)')\n",
        "plt.ylim((2,8))\n",
        "plt.grid()\n",
        "plt.show()"
      ],
      "metadata": {
        "id": "n-tvU2f-gEMd"
      },
      "execution_count": null,
      "outputs": []
    },
    {
      "cell_type": "code",
      "source": [
        "# Plot Kesalahan Prediksi\n",
        "\n",
        "selisih = TPT_Target - y_prediksi.transpose()\n",
        "plt.title('Training Stage Prediction Error')\n",
        "plt.plot(urutan1, selisih.transpose(), '-m', label='error', linewidth=3, markersize=12)\n",
        "plt.legend()\n",
        "plt.xlabel('Year')\n",
        "plt.ylabel('Open Unemployment Rate (OUR) (%)')\n",
        "plt.ylim((-2.5, 2.5))\n",
        "plt.grid()\n",
        "plt.show()"
      ],
      "metadata": {
        "id": "rxSe5CwEgNRW"
      },
      "execution_count": null,
      "outputs": []
    },
    {
      "cell_type": "code",
      "source": [
        "# Pengukuran kinerja Deep Learning\n",
        "\n",
        "from sklearn.metrics import mean_squared_error\n",
        "from math import sqrt\n",
        "\n",
        "# Menghitung Mean Squared Error (MSE)\n",
        "mse = mean_squared_error(TPT_Target, y_prediksi)\n",
        "rmse = sqrt(mse)\n",
        "print(\"MSE =\", mse)\n",
        "print(\"RMSE =\", rmse)\n",
        "\n",
        "# Fungsi untuk menghitung Mean Absolute Percentage Error (MAPE)\n",
        "def mean_absolute_percentage_error(y_true, y_pred):\n",
        "    y_true, y_pred = np.array(y_true), np.array(y_pred)\n",
        "    return np.mean(np.abs((y_true - y_pred) / y_true)) * 100\n",
        "\n",
        "# Menghitung MAPE\n",
        "MAPE = mean_absolute_percentage_error(TPT_Target, y_prediksi)\n",
        "print(\"MAPE =\", MAPE)\n",
        "\n",
        "# Menghitung Persentase Keberhasilan\n",
        "Persentase_keberhasilan = 100 - MAPE\n",
        "print(\"Persentase Keberhasilan =\", Persentase_keberhasilan)"
      ],
      "metadata": {
        "id": "csmKSwgUgP0w"
      },
      "execution_count": null,
      "outputs": []
    },
    {
      "cell_type": "markdown",
      "source": [
        "# **Prediksi TPT**"
      ],
      "metadata": {
        "id": "aDLIZztph6d8"
      }
    },
    {
      "cell_type": "markdown",
      "source": [
        "## **Tahap Pengujian**"
      ],
      "metadata": {
        "id": "Y7wvs9hph_Zi"
      }
    },
    {
      "cell_type": "markdown",
      "source": [
        "#### Input : mulai tahun 1999 sampai tahun 2018\n",
        "#### Untuk Memprediksi TPT di Tahun 2019 dan 2020"
      ],
      "metadata": {
        "id": "s1EfvlNYiC34"
      }
    },
    {
      "cell_type": "code",
      "source": [
        "# Urut tahun, menggantikan indeks dari 0 s.d 1\n",
        "\n",
        "urutan2 = ['2019',\n",
        " '2020'\n",
        " ]"
      ],
      "metadata": {
        "id": "nt5K3Hy6iHvw"
      },
      "execution_count": null,
      "outputs": []
    },
    {
      "cell_type": "code",
      "source": [
        "# Ujicoba prediksi\n",
        "\n",
        "y_uji = model.predict(X1)\n",
        "print('Hasil prediksi sebelum denormalisasi =', y_uji)"
      ],
      "metadata": {
        "id": "_JJtQS2kiM85"
      },
      "execution_count": null,
      "outputs": []
    },
    {
      "cell_type": "code",
      "source": [
        "# Denormalisasi Data sebelum dibandngkan\n",
        "\n",
        "a = np.max(TPT)\n",
        "b = np.min(TPT)\n",
        "\n",
        "# Rumus\n",
        "# x_denormalisasi = (((x_normalisasi - 0.1)*(a - b))/0.8) + b\n",
        "\n",
        "y_pengujian = (((y_uji - 0.1)*(a - b))/0.8) + b\n",
        "\n",
        "print(\"y_pengujian =\", y_pengujian)"
      ],
      "metadata": {
        "id": "w74XCu1ziOnS"
      },
      "execution_count": null,
      "outputs": []
    },
    {
      "cell_type": "code",
      "source": [
        "# Plot keluaran hasil prediksi Tahap Pengujian\n",
        "\n",
        "plt.title('Testing Stage Prediction Results')\n",
        "plt.plot(urutan2, TPT_Target_Uji, '-b', label='Desired', linewidth=3, markersize=12)\n",
        "plt.plot(urutan2, y_pengujian, '--r', label='Prediction', linewidth=3, markersize=12)\n",
        "plt.legend()\n",
        "plt.xlabel('Year')\n",
        "plt.ylabel('Open Unemployment Rate (OUR) (%)')\n",
        "plt.ylim((0, 10))\n",
        "plt.grid()\n",
        "plt.show()"
      ],
      "metadata": {
        "id": "z8j2vFggiTG6"
      },
      "execution_count": null,
      "outputs": []
    },
    {
      "cell_type": "code",
      "source": [
        "# Plot kesalahan prediksi Tahap Pengujian\n",
        "\n",
        "# Menghitung selisih (kesalahan) prediksi\n",
        "selisih_pengujian = TPT_Target_Uji - y_pengujian.transpose()\n",
        "\n",
        "# Membuat plot kesalahan prediksi pada tahap pengujian\n",
        "plt.title('Testing Stage Prediction Error')\n",
        "plt.plot(urutan2, selisih_pengujian.transpose(), '-m', label='error', linewidth=3, markersize=12)\n",
        "plt.legend()\n",
        "plt.xlabel('Year')\n",
        "plt.ylabel('Open Unemployment Rate (OUR) (%)')\n",
        "plt.ylim((-7, 7))\n",
        "plt.grid()\n",
        "plt.show()"
      ],
      "metadata": {
        "id": "yF8Z3zfWiXbu"
      },
      "execution_count": null,
      "outputs": []
    },
    {
      "cell_type": "code",
      "source": [
        "# Pengukuran kinerja Deep Learning Tahap Pengujian\n",
        "\n",
        "from sklearn.metrics import mean_squared_error\n",
        "from math import sqrt\n",
        "\n",
        "mse1 = mean_squared_error(TPT_Target_Uji, y_pengujian)\n",
        "rmse1 = sqrt(mse1)\n",
        "print(\"mse =\",mse1)\n",
        "print(\"rmse =\",rmse1)\n",
        "\n",
        "MAPE = mean_absolute_percentage_error(TPT_Target_Uji, y_pengujian)\n",
        "print(\"MAPE =\",MAPE)\n",
        "Persentase_keberhasilan = 100-MAPE\n",
        "print(\"Persentase_keberhasilan =\", Persentase_keberhasilan)"
      ],
      "metadata": {
        "id": "nwIlaFFBiayB"
      },
      "execution_count": null,
      "outputs": []
    }
  ]
}